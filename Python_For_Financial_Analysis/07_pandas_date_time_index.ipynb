{
 "cells": [
  {
   "cell_type": "code",
   "execution_count": 2,
   "metadata": {
    "collapsed": true
   },
   "outputs": [],
   "source": [
    "import pandas as pd\n",
    "import numpy as np\n",
    "import matplotlib.pyplot as plt\n",
    "%matplotlib inline"
   ]
  },
  {
   "cell_type": "code",
   "execution_count": 3,
   "metadata": {
    "collapsed": false
   },
   "outputs": [],
   "source": [
    "#\n",
    "# for date time you can use datetime python library\n",
    "from datetime import datetime"
   ]
  },
  {
   "cell_type": "code",
   "execution_count": 6,
   "metadata": {
    "collapsed": false
   },
   "outputs": [],
   "source": [
    "my_year = 2017\n",
    "my_month = 1\n",
    "my_day = 23\n",
    "my_hour= 16\n",
    "my_minute = 30\n",
    "my_second = 15\n"
   ]
  },
  {
   "cell_type": "code",
   "execution_count": 11,
   "metadata": {},
   "outputs": [],
   "source": [
    "my_date = datetime(my_year,my_month,my_day)\n",
    "my_date2 = datetime(my_year,my_month,my_day,my_hour,my_second)"
   ]
  },
  {
   "cell_type": "code",
   "execution_count": 9,
   "metadata": {},
   "outputs": [
    {
     "data": {
      "text/plain": [
       "datetime.datetime(2017, 1, 23, 0, 0)"
      ]
     },
     "execution_count": 9,
     "metadata": {},
     "output_type": "execute_result"
    }
   ],
   "source": [
    "# here we have a datetime object\n",
    "my_date"
   ]
  },
  {
   "cell_type": "code",
   "execution_count": 12,
   "metadata": {},
   "outputs": [
    {
     "data": {
      "text/plain": [
       "datetime.datetime(2017, 1, 23, 16, 15)"
      ]
     },
     "execution_count": 12,
     "metadata": {},
     "output_type": "execute_result"
    }
   ],
   "source": [
    "my_date2"
   ]
  },
  {
   "cell_type": "code",
   "execution_count": 16,
   "metadata": {},
   "outputs": [
    {
     "name": "stdout",
     "output_type": "stream",
     "text": [
      "23 day of month: 1\n"
     ]
    }
   ],
   "source": [
    "#\n",
    "# This object has attributes ad methods\n",
    "print(str(my_date.day) + \" day of month: \"  + str(my_date.month))\n"
   ]
  },
  {
   "cell_type": "code",
   "execution_count": 18,
   "metadata": {},
   "outputs": [
    {
     "name": "stdout",
     "output_type": "stream",
     "text": [
      "<class 'pandas.core.indexes.datetimes.DatetimeIndex'>\n"
     ]
    },
    {
     "data": {
      "text/plain": [
       "DatetimeIndex(['2016-01-01', '2016-01-02'], dtype='datetime64[ns]', freq=None)"
      ]
     },
     "execution_count": 18,
     "metadata": {},
     "output_type": "execute_result"
    }
   ],
   "source": [
    "# this is a lisf of datetime objects and then we convert it to a time index\n",
    "first_two = [ datetime(2016,1,1), datetime(2016,1,2)]\n",
    "#\n",
    "dt_index = pd.DatetimeIndex(first_two)\n",
    "print(type(dt_index))\n",
    "dt_index\n"
   ]
  },
  {
   "cell_type": "code",
   "execution_count": 19,
   "metadata": {},
   "outputs": [
    {
     "data": {
      "text/html": [
       "<div>\n",
       "<style scoped>\n",
       "    .dataframe tbody tr th:only-of-type {\n",
       "        vertical-align: middle;\n",
       "    }\n",
       "\n",
       "    .dataframe tbody tr th {\n",
       "        vertical-align: top;\n",
       "    }\n",
       "\n",
       "    .dataframe thead th {\n",
       "        text-align: right;\n",
       "    }\n",
       "</style>\n",
       "<table border=\"1\" class=\"dataframe\">\n",
       "  <thead>\n",
       "    <tr style=\"text-align: right;\">\n",
       "      <th></th>\n",
       "      <th>a</th>\n",
       "      <th>b</th>\n",
       "    </tr>\n",
       "  </thead>\n",
       "  <tbody>\n",
       "    <tr>\n",
       "      <th>2016-01-01</th>\n",
       "      <td>0.152032</td>\n",
       "      <td>0.222086</td>\n",
       "    </tr>\n",
       "    <tr>\n",
       "      <th>2016-01-02</th>\n",
       "      <td>0.638532</td>\n",
       "      <td>0.248654</td>\n",
       "    </tr>\n",
       "  </tbody>\n",
       "</table>\n",
       "</div>"
      ],
      "text/plain": [
       "                   a         b\n",
       "2016-01-01  0.152032  0.222086\n",
       "2016-01-02  0.638532  0.248654"
      ]
     },
     "execution_count": 19,
     "metadata": {},
     "output_type": "execute_result"
    }
   ],
   "source": [
    "#\n",
    "# now we crate a df with random data and apply the index\n",
    "data = np.random.rand(2,2)\n",
    "cols = ['a','b']\n",
    "df = pd.DataFrame(data,dt_index,cols)\n",
    "df"
   ]
  },
  {
   "cell_type": "code",
   "execution_count": 21,
   "metadata": {},
   "outputs": [
    {
     "name": "stdout",
     "output_type": "stream",
     "text": [
      "0\n",
      "1\n",
      "<class 'pandas._libs.tslibs.timestamps.Timestamp'>\n",
      "2016-01-02 00:00:00\n",
      "2016-01-01 00:00:00\n"
     ]
    }
   ],
   "source": [
    "# now we can play around with the indexes and get\n",
    "#\n",
    "# 1. the index value for the latest/earliest date\n",
    "print(df.index.argmin())\n",
    "print(df.index.argmax())\n",
    "#\n",
    "# 2. the the value of the latest/min date\n",
    "print(type(df.index.max()))\n",
    "print(df.index.max())\n",
    "print(df.index.min())"
   ]
  },
  {
   "cell_type": "code",
   "execution_count": 50,
   "metadata": {},
   "outputs": [
    {
     "data": {
      "text/html": [
       "<div>\n",
       "<style scoped>\n",
       "    .dataframe tbody tr th:only-of-type {\n",
       "        vertical-align: middle;\n",
       "    }\n",
       "\n",
       "    .dataframe tbody tr th {\n",
       "        vertical-align: top;\n",
       "    }\n",
       "\n",
       "    .dataframe thead th {\n",
       "        text-align: right;\n",
       "    }\n",
       "</style>\n",
       "<table border=\"1\" class=\"dataframe\">\n",
       "  <thead>\n",
       "    <tr style=\"text-align: right;\">\n",
       "      <th></th>\n",
       "      <th>Date</th>\n",
       "      <th>Open</th>\n",
       "      <th>High</th>\n",
       "      <th>Low</th>\n",
       "      <th>Close</th>\n",
       "      <th>Volume</th>\n",
       "      <th>Adj Close</th>\n",
       "    </tr>\n",
       "  </thead>\n",
       "  <tbody>\n",
       "    <tr>\n",
       "      <th>0</th>\n",
       "      <td>2012-01-03</td>\n",
       "      <td>59.970001</td>\n",
       "      <td>61.060001</td>\n",
       "      <td>59.869999</td>\n",
       "      <td>60.330002</td>\n",
       "      <td>12668800</td>\n",
       "      <td>52.619235</td>\n",
       "    </tr>\n",
       "    <tr>\n",
       "      <th>1</th>\n",
       "      <td>2012-01-04</td>\n",
       "      <td>60.209999</td>\n",
       "      <td>60.349998</td>\n",
       "      <td>59.470001</td>\n",
       "      <td>59.709999</td>\n",
       "      <td>9593300</td>\n",
       "      <td>52.078475</td>\n",
       "    </tr>\n",
       "    <tr>\n",
       "      <th>2</th>\n",
       "      <td>2012-01-05</td>\n",
       "      <td>59.349998</td>\n",
       "      <td>59.619999</td>\n",
       "      <td>58.369999</td>\n",
       "      <td>59.419998</td>\n",
       "      <td>12768200</td>\n",
       "      <td>51.825539</td>\n",
       "    </tr>\n",
       "    <tr>\n",
       "      <th>3</th>\n",
       "      <td>2012-01-06</td>\n",
       "      <td>59.419998</td>\n",
       "      <td>59.450001</td>\n",
       "      <td>58.869999</td>\n",
       "      <td>59.000000</td>\n",
       "      <td>8069400</td>\n",
       "      <td>51.459220</td>\n",
       "    </tr>\n",
       "    <tr>\n",
       "      <th>4</th>\n",
       "      <td>2012-01-09</td>\n",
       "      <td>59.029999</td>\n",
       "      <td>59.549999</td>\n",
       "      <td>58.919998</td>\n",
       "      <td>59.180000</td>\n",
       "      <td>6679300</td>\n",
       "      <td>51.616215</td>\n",
       "    </tr>\n",
       "  </tbody>\n",
       "</table>\n",
       "</div>"
      ],
      "text/plain": [
       "         Date       Open       High        Low      Close    Volume  Adj Close\n",
       "0  2012-01-03  59.970001  61.060001  59.869999  60.330002  12668800  52.619235\n",
       "1  2012-01-04  60.209999  60.349998  59.470001  59.709999   9593300  52.078475\n",
       "2  2012-01-05  59.349998  59.619999  58.369999  59.419998  12768200  51.825539\n",
       "3  2012-01-06  59.419998  59.450001  58.869999  59.000000   8069400  51.459220\n",
       "4  2012-01-09  59.029999  59.549999  58.919998  59.180000   6679300  51.616215"
      ]
     },
     "execution_count": 50,
     "metadata": {},
     "output_type": "execute_result"
    }
   ],
   "source": [
    "df = pd.read_csv('data/ch7/walmart_stock.csv')\n",
    "df.head()"
   ]
  },
  {
   "cell_type": "code",
   "execution_count": 51,
   "metadata": {},
   "outputs": [
    {
     "name": "stdout",
     "output_type": "stream",
     "text": [
      "<class 'pandas.core.frame.DataFrame'>\n",
      "RangeIndex: 1258 entries, 0 to 1257\n",
      "Data columns (total 7 columns):\n",
      " #   Column     Non-Null Count  Dtype  \n",
      "---  ------     --------------  -----  \n",
      " 0   Date       1258 non-null   object \n",
      " 1   Open       1258 non-null   float64\n",
      " 2   High       1258 non-null   float64\n",
      " 3   Low        1258 non-null   float64\n",
      " 4   Close      1258 non-null   float64\n",
      " 5   Volume     1258 non-null   int64  \n",
      " 6   Adj Close  1258 non-null   float64\n",
      "dtypes: float64(5), int64(1), object(1)\n",
      "memory usage: 68.9+ KB\n",
      "None\n",
      "------------  COVERT Date to Datetime\n",
      "------------\n",
      "<class 'pandas.core.frame.DataFrame'>\n",
      "RangeIndex: 1258 entries, 0 to 1257\n",
      "Data columns (total 7 columns):\n",
      " #   Column     Non-Null Count  Dtype         \n",
      "---  ------     --------------  -----         \n",
      " 0   Date       1258 non-null   datetime64[ns]\n",
      " 1   Open       1258 non-null   float64       \n",
      " 2   High       1258 non-null   float64       \n",
      " 3   Low        1258 non-null   float64       \n",
      " 4   Close      1258 non-null   float64       \n",
      " 5   Volume     1258 non-null   int64         \n",
      " 6   Adj Close  1258 non-null   float64       \n",
      "dtypes: datetime64[ns](1), float64(5), int64(1)\n",
      "memory usage: 68.9 KB\n",
      "None\n",
      "------------  Note\n",
      "the Pandas function accepts a format parameter in case the string original value is custom\n",
      "the help on the function can show you examples on the format expected and how it should be written\n",
      "------------\n",
      "------------  Now we set the colum as the index\n",
      "                 Open       High        Low      Close    Volume  Adj Close\n",
      "Date                                                                       \n",
      "2012-01-03  59.970001  61.060001  59.869999  60.330002  12668800  52.619235\n",
      "2012-01-04  60.209999  60.349998  59.470001  59.709999   9593300  52.078475\n",
      "2012-01-05  59.349998  59.619999  58.369999  59.419998  12768200  51.825539\n",
      "2012-01-06  59.419998  59.450001  58.869999  59.000000   8069400  51.459220\n",
      "2012-01-09  59.029999  59.549999  58.919998  59.180000   6679300  51.616215\n",
      "-------------------\n",
      "-------------------\n",
      "the column does not exist anymore..Date has becom and index\n",
      "columns are now:  Index(['Open', 'High', 'Low', 'Close', 'Volume', 'Adj Close'], dtype='object')\n",
      "-------------------\n",
      "-------------------\n"
     ]
    }
   ],
   "source": [
    "#\n",
    "# we want the date column to be an index but we can see that pandas consider them a generic object (i.e a string)\n",
    "# so we need to covert it\n",
    "print(df.info())\n",
    "#\n",
    "# CONVERT STRING TO DATE\n",
    "print(\"------------  COVERT Date to Datetime\")\n",
    "print(\"------------\")\n",
    "df['Date'] = pd.to_datetime(df['Date'])\n",
    "print(df.info())\n",
    "print(\"------------  Note\")\n",
    "print(\"the Pandas function accepts a format parameter in case the string original value is custom\")\n",
    "print(\"the help on the function can show you examples on the format expected and how it should be written\")\n",
    "print(\"------------\")\n",
    "print(\"------------  Now we set the colum as the index\")\n",
    "# \n",
    "# Method 1. this duplicates the date column: original one + index\n",
    "#df.index =df['Date']\n",
    "# \n",
    "# Method 2. this replaces the index with the Date column (i.e no duplication)\n",
    "#           inplace=True means change the original df\n",
    "#           Also note that the column does not exist anymore, it is now an index\n",
    "df.set_index('Date', inplace=True)\n",
    "print(df.head())\n",
    "print(\"-------------------\")\n",
    "print(\"-------------------\")\n",
    "print(\"the column does not exist anymore..Date has becom and index\")\n",
    "print(\"columns are now:  \" + str(df.columns))\n",
    "print(\"-------------------\")\n",
    "print(\"-------------------\")\n"
   ]
  },
  {
   "cell_type": "code",
   "execution_count": 56,
   "metadata": {},
   "outputs": [
    {
     "name": "stdout",
     "output_type": "stream",
     "text": [
      "<class 'pandas.core.indexes.base.Index'>\n",
      "<class 'pandas.core.indexes.datetimes.DatetimeIndex'>\n"
     ]
    }
   ],
   "source": [
    "#\n",
    "# Method 2. this loads the df using a specific column as index to begin with\n",
    "#           Note you still have to covert it to datetime\n",
    "df2 = pd.read_csv('data/ch7/walmart_stock.csv', index_col='Date')\n",
    "print(type(df2.index))\n",
    "#\n",
    "# you can load and parse it at the same time (if the format is known)\n",
    "df2 = pd.read_csv('data/ch7/walmart_stock.csv', index_col='Date', parse_dates=True)\n",
    "print(type(df2.index))"
   ]
  },
  {
   "cell_type": "code",
   "execution_count": 57,
   "metadata": {},
   "outputs": [
    {
     "data": {
      "text/html": [
       "<div>\n",
       "<style scoped>\n",
       "    .dataframe tbody tr th:only-of-type {\n",
       "        vertical-align: middle;\n",
       "    }\n",
       "\n",
       "    .dataframe tbody tr th {\n",
       "        vertical-align: top;\n",
       "    }\n",
       "\n",
       "    .dataframe thead th {\n",
       "        text-align: right;\n",
       "    }\n",
       "</style>\n",
       "<table border=\"1\" class=\"dataframe\">\n",
       "  <thead>\n",
       "    <tr style=\"text-align: right;\">\n",
       "      <th></th>\n",
       "      <th>Open</th>\n",
       "      <th>High</th>\n",
       "      <th>Low</th>\n",
       "      <th>Close</th>\n",
       "      <th>Volume</th>\n",
       "      <th>Adj Close</th>\n",
       "    </tr>\n",
       "    <tr>\n",
       "      <th>Date</th>\n",
       "      <th></th>\n",
       "      <th></th>\n",
       "      <th></th>\n",
       "      <th></th>\n",
       "      <th></th>\n",
       "      <th></th>\n",
       "    </tr>\n",
       "  </thead>\n",
       "  <tbody>\n",
       "    <tr>\n",
       "      <th>2012-01-03</th>\n",
       "      <td>59.970001</td>\n",
       "      <td>61.060001</td>\n",
       "      <td>59.869999</td>\n",
       "      <td>60.330002</td>\n",
       "      <td>12668800</td>\n",
       "      <td>52.619235</td>\n",
       "    </tr>\n",
       "    <tr>\n",
       "      <th>2012-01-04</th>\n",
       "      <td>60.209999</td>\n",
       "      <td>60.349998</td>\n",
       "      <td>59.470001</td>\n",
       "      <td>59.709999</td>\n",
       "      <td>9593300</td>\n",
       "      <td>52.078475</td>\n",
       "    </tr>\n",
       "    <tr>\n",
       "      <th>2012-01-05</th>\n",
       "      <td>59.349998</td>\n",
       "      <td>59.619999</td>\n",
       "      <td>58.369999</td>\n",
       "      <td>59.419998</td>\n",
       "      <td>12768200</td>\n",
       "      <td>51.825539</td>\n",
       "    </tr>\n",
       "    <tr>\n",
       "      <th>2012-01-06</th>\n",
       "      <td>59.419998</td>\n",
       "      <td>59.450001</td>\n",
       "      <td>58.869999</td>\n",
       "      <td>59.000000</td>\n",
       "      <td>8069400</td>\n",
       "      <td>51.459220</td>\n",
       "    </tr>\n",
       "    <tr>\n",
       "      <th>2012-01-09</th>\n",
       "      <td>59.029999</td>\n",
       "      <td>59.549999</td>\n",
       "      <td>58.919998</td>\n",
       "      <td>59.180000</td>\n",
       "      <td>6679300</td>\n",
       "      <td>51.616215</td>\n",
       "    </tr>\n",
       "    <tr>\n",
       "      <th>...</th>\n",
       "      <td>...</td>\n",
       "      <td>...</td>\n",
       "      <td>...</td>\n",
       "      <td>...</td>\n",
       "      <td>...</td>\n",
       "      <td>...</td>\n",
       "    </tr>\n",
       "    <tr>\n",
       "      <th>2016-12-23</th>\n",
       "      <td>69.430000</td>\n",
       "      <td>69.750000</td>\n",
       "      <td>69.360001</td>\n",
       "      <td>69.540001</td>\n",
       "      <td>4803900</td>\n",
       "      <td>69.032411</td>\n",
       "    </tr>\n",
       "    <tr>\n",
       "      <th>2016-12-27</th>\n",
       "      <td>69.300003</td>\n",
       "      <td>69.820000</td>\n",
       "      <td>69.250000</td>\n",
       "      <td>69.699997</td>\n",
       "      <td>4435700</td>\n",
       "      <td>69.191240</td>\n",
       "    </tr>\n",
       "    <tr>\n",
       "      <th>2016-12-28</th>\n",
       "      <td>69.940002</td>\n",
       "      <td>70.000000</td>\n",
       "      <td>69.260002</td>\n",
       "      <td>69.309998</td>\n",
       "      <td>4875700</td>\n",
       "      <td>68.804087</td>\n",
       "    </tr>\n",
       "    <tr>\n",
       "      <th>2016-12-29</th>\n",
       "      <td>69.209999</td>\n",
       "      <td>69.519997</td>\n",
       "      <td>69.120003</td>\n",
       "      <td>69.260002</td>\n",
       "      <td>4298400</td>\n",
       "      <td>68.754456</td>\n",
       "    </tr>\n",
       "    <tr>\n",
       "      <th>2016-12-30</th>\n",
       "      <td>69.120003</td>\n",
       "      <td>69.430000</td>\n",
       "      <td>68.830002</td>\n",
       "      <td>69.120003</td>\n",
       "      <td>6889500</td>\n",
       "      <td>68.615479</td>\n",
       "    </tr>\n",
       "  </tbody>\n",
       "</table>\n",
       "<p>1258 rows × 6 columns</p>\n",
       "</div>"
      ],
      "text/plain": [
       "                 Open       High        Low      Close    Volume  Adj Close\n",
       "Date                                                                       \n",
       "2012-01-03  59.970001  61.060001  59.869999  60.330002  12668800  52.619235\n",
       "2012-01-04  60.209999  60.349998  59.470001  59.709999   9593300  52.078475\n",
       "2012-01-05  59.349998  59.619999  58.369999  59.419998  12768200  51.825539\n",
       "2012-01-06  59.419998  59.450001  58.869999  59.000000   8069400  51.459220\n",
       "2012-01-09  59.029999  59.549999  58.919998  59.180000   6679300  51.616215\n",
       "...               ...        ...        ...        ...       ...        ...\n",
       "2016-12-23  69.430000  69.750000  69.360001  69.540001   4803900  69.032411\n",
       "2016-12-27  69.300003  69.820000  69.250000  69.699997   4435700  69.191240\n",
       "2016-12-28  69.940002  70.000000  69.260002  69.309998   4875700  68.804087\n",
       "2016-12-29  69.209999  69.519997  69.120003  69.260002   4298400  68.754456\n",
       "2016-12-30  69.120003  69.430000  68.830002  69.120003   6889500  68.615479\n",
       "\n",
       "[1258 rows x 6 columns]"
      ]
     },
     "execution_count": 57,
     "metadata": {},
     "output_type": "execute_result"
    }
   ],
   "source": [
    "df"
   ]
  },
  {
   "cell_type": "code",
   "execution_count": 64,
   "metadata": {},
   "outputs": [
    {
     "name": "stdout",
     "output_type": "stream",
     "text": [
      "End of year resample:\n",
      "                 Open       High        Low      Close        Volume  \\\n",
      "Date                                                                   \n",
      "2012-12-31  67.158680  67.602120  66.786520  67.215120  9.239015e+06   \n",
      "2013-12-31  75.264048  75.729405  74.843055  75.320516  6.951496e+06   \n",
      "2014-12-31  77.274524  77.740040  76.864405  77.327381  6.515612e+06   \n",
      "\n",
      "            Adj Close  \n",
      "Date                   \n",
      "2012-12-31  59.389349  \n",
      "2013-12-31  68.147179  \n",
      "2014-12-31  71.709712  \n",
      "------------------\n",
      "------------------\n",
      "\n",
      "\n",
      "Quarterly resample:\n",
      "                 Open       High        Low      Close        Volume  \\\n",
      "Date                                                                   \n",
      "2012-03-31  60.462903  60.807258  60.160484  60.519516  8.850221e+06   \n",
      "2012-06-30  62.888889  63.400159  62.592222  63.057143  1.155795e+07   \n",
      "2012-09-30  73.081587  73.549682  72.717619  73.174921  7.871587e+06   \n",
      "\n",
      "            Adj Close  \n",
      "Date                   \n",
      "2012-03-31  52.881839  \n",
      "2012-06-30  55.594392  \n",
      "2012-09-30  64.891949  \n",
      "------------------\n",
      "------------------\n",
      "\n",
      "\n",
      "Business Quarterly resample:\n",
      "                 Open       High        Low      Close        Volume  \\\n",
      "Date                                                                   \n",
      "2012-03-30  60.462903  60.807258  60.160484  60.519516  8.850221e+06   \n",
      "2012-06-29  62.888889  63.400159  62.592222  63.057143  1.155795e+07   \n",
      "2012-09-28  73.081587  73.549682  72.717619  73.174921  7.871587e+06   \n",
      "\n",
      "            Adj Close  \n",
      "Date                   \n",
      "2012-03-30  52.881839  \n",
      "2012-06-29  55.594392  \n",
      "2012-09-28  64.891949  \n",
      "------------------\n",
      "------------------\n",
      "\n",
      "\n",
      "Custom Yearly resample:\n",
      "                 Open       High        Low      Close    Volume  Adj Close\n",
      "Date                                                                       \n",
      "2012-12-31  59.970001  61.060001  59.869999  60.330002  12668800  52.619235\n",
      "2013-12-31  68.930000  69.239998  68.449997  69.239998  10390800  61.879708\n",
      "2014-12-31  78.720001  79.470001  78.500000  78.910004   6878000  72.254228\n"
     ]
    }
   ],
   "source": [
    "############################################################\n",
    "##\n",
    "##               TIME RES-SAMPLING\n",
    "##\n",
    "############################################################\n",
    "# resample use rules that are pre-encoded\n",
    "# and you can specify the rule by codes\n",
    "#\n",
    "# Re-smaple works as a groupby methods specifically written for time data:\n",
    "# B         business day frequency\n",
    "# C         custom business day frequency (experimental)\n",
    "# D         calendar day frequency\n",
    "# W         weekly frequency\n",
    "# M         month end frequency\n",
    "# SM        semi-month end frequency (15th and end of month)\n",
    "# BM        business month end frequency\n",
    "# CBM       custom business month end frequency\n",
    "# MS        month start frequency\n",
    "# SMS       semi-month start frequency (1st and 15th)\n",
    "# BMS       business month start frequency\n",
    "# CBMS      custom business month start frequency\n",
    "# Q         quarter end frequency\n",
    "# BQ        business quarter endfrequency\n",
    "# QS        quarter start frequency\n",
    "# BQS       business quarter start frequency\n",
    "# A         year end frequency\n",
    "# BA, BY    business year end frequency\n",
    "# AS, YS    year start frequency\n",
    "# BAS, BYS  business year start frequency\n",
    "# BH        business hour frequency\n",
    "# H         hourly frequency\n",
    "# T, min    minutely frequency\n",
    "# S         secondly frequency\n",
    "# L, ms     milliseconds\n",
    "# U, us     microseconds\n",
    "# N         nanoseconds \n",
    "#\n",
    "# see also: https://pandas.pydata.org/pandas-docs/stable/user_guide/timeseries.html\n",
    "#\n",
    "# all resamples ules need a grouping/aggregate methods so for instance here we:\n",
    "# - aggregate using a mean of values\n",
    "# - with periods that are open/closed following rule A: (last day of the year)\n",
    "print(\"End of year resample:\")\n",
    "print(df.resample(rule='A').mean().head(n=3))\n",
    "print(\"------------------\")\n",
    "print(\"------------------\\n\")\n",
    "#\n",
    "# - aggregate using a mean of values\n",
    "# - with periods that are open/closed following rule Q: (quarterly)\n",
    "print(\"\\nQuarterly resample:\")\n",
    "print(df.resample(rule='Q').mean().head(n=3))\n",
    "print(\"------------------\")\n",
    "print(\"------------------\\n\")\n",
    "#\n",
    "# - aggregate using a mean of values\n",
    "# - with periods that are open/closed following rule BQ: (business quarterly)\n",
    "print(\"\\nBusiness Quarterly resample:\")\n",
    "print(df.resample(rule='BQ').mean().head(n=3))\n",
    "print(\"------------------\")\n",
    "print(\"------------------\\n\")\n",
    "#\n",
    "# - aggregate using your own custom function (e.g. in this case we give out the value of the first day of the period)\n",
    "# - with periods that are open/closed following rule A: (last day of the year)\n",
    "print(\"\\nCustom Yearly resample:\")\n",
    "def first_day(entry):\n",
    "    return entry[0]\n",
    "print(df.resample('A').apply(first_day).head(n=3))\n"
   ]
  },
  {
   "cell_type": "code",
   "execution_count": 68,
   "metadata": {},
   "outputs": [
    {
     "name": "stdout",
     "output_type": "stream",
     "text": [
      "Plotting mean of yearly closing Figures\n"
     ]
    },
    {
     "data": {
      "image/png": "[encoded data removed]",
      "text/plain": [
       "<Figure size 432x288 with 1 Axes>"
      ]
     },
     "metadata": {
      "needs_background": "light"
     },
     "output_type": "display_data"
    },
    {
     "name": "stdout",
     "output_type": "stream",
     "text": [
      "\n",
      "\n",
      "-----------------\n",
      "Plotting mean of monthly closing Figures\n"
     ]
    },
    {
     "data": {
      "text/plain": [
       "<Axes: xlabel='Date'>"
      ]
     },
     "execution_count": 68,
     "metadata": {},
     "output_type": "execute_result"
    },
    {
     "data": {
      "image/png": "[encoded data removed]",
      "text/plain": [
       "<Figure size 1152x432 with 1 Axes>"
      ]
     },
     "metadata": {
      "needs_background": "light"
     },
     "output_type": "display_data"
    }
   ],
   "source": [
    "#\n",
    "# now we can use this resample to get the info we want and graph it\n",
    "# E.G.\n",
    "print(\"Plotting mean of yearly closing Figures\")\n",
    "df['Close'].resample(rule='A').mean().plot(kind='bar')\n",
    "plt.show()\n",
    "print(\"\\n\\n-----------------\")\n",
    "print(\"Plotting mean of monthly closing Figures\")\n",
    "df['Close'].resample(rule='M').mean().plot(kind='bar', figsize=(16,6))\n"
   ]
  },
  {
   "cell_type": "code",
   "execution_count": 104,
   "metadata": {},
   "outputs": [
    {
     "name": "stdout",
     "output_type": "stream",
     "text": [
      "First 3 entries in the df\n",
      "                 Open       High        Low      Close    Volume  Adj Close\n",
      "Date                                                                       \n",
      "2012-01-03  59.970001  61.060001  59.869999  60.330002  12668800  52.619235\n",
      "2012-01-04  60.209999  60.349998  59.470001  59.709999   9593300  52.078475\n",
      "2012-01-05  59.349998  59.619999  58.369999  59.419998  12768200  51.825539\n",
      "\n",
      "Shape is:(1258, 6)\n",
      "\n",
      "Last entry:                  Open       High        Low      Close   Volume  Adj Close\n",
      "Date                                                                      \n",
      "2016-12-28  69.940002  70.000000  69.260002  69.309998  4875700  68.804087\n",
      "2016-12-29  69.209999  69.519997  69.120003  69.260002  4298400  68.754456\n",
      "2016-12-30  69.120003  69.430000  68.830002  69.120003  6889500  68.615479\n",
      "--------------------------\n",
      "--------------------------\n",
      "\n",
      "\n",
      "Now we shift one and print again\n",
      "First 3 entries in the df\n",
      "                 Open       High        Low      Close      Volume  Adj Close\n",
      "Date                                                                         \n",
      "2012-01-03        NaN        NaN        NaN        NaN         NaN        NaN\n",
      "2012-01-04  59.970001  61.060001  59.869999  60.330002  12668800.0  52.619235\n",
      "2012-01-05  60.209999  60.349998  59.470001  59.709999   9593300.0  52.078475\n",
      "\n",
      "Shape is:(1258, 6)\n",
      "\n",
      "Last entry:                  Open       High        Low      Close     Volume  Adj Close\n",
      "Date                                                                        \n",
      "2016-12-29  69.940002  70.000000  69.260002  69.309998  4875700.0  68.804087\n",
      "2016-12-30  69.209999  69.519997  69.120003  69.260002  4298400.0  68.754456\n",
      "\n",
      "we shifted the df one so if an entry was index 1 now its index is 2\n",
      "- A new first entry has been created with Nan values..\n",
      "- The number of rowas stays the same so we lose the last entry but the indexes don't change\n"
     ]
    }
   ],
   "source": [
    "############################################################\n",
    "##\n",
    "##               TIME SHIFTING\n",
    "##\n",
    "############################################################\n",
    "# \n",
    "df = pd.read_csv('data/ch7/walmart_stock.csv', index_col='Date', parse_dates=True)\n",
    "print(\"First 3 entries in the df\")\n",
    "print(df.loc[df.index[0:3]])\n",
    "print(\"\\nShape is:\" + str(df.shape))\n",
    "print(\"\\nLast entry: \" + str(df.loc[df.index[-3:]]))\n",
    "print(\"--------------------------\")\n",
    "print(\"--------------------------\\n\\n\")\n",
    "print(\"Now we shift one and print again\")\n",
    "df2 = df.shift(periods=1)\n",
    "print(\"First 3 entries in the df\")\n",
    "print(df2.loc[df.index[0:3]])\n",
    "print(\"\\nShape is:\" + str(df2.shape))\n",
    "print(\"\\nLast entry: \" + str(df2.loc[df2.index[-2:]]))\n",
    "print(\"\\nwe shifted the df one so if an entry was index 1 now its index is 2\")\n",
    "print(\"- A new first entry has been created with Nan values..\")\n",
    "print(\"- The number of rowas stays the same so we lose the last entry but the indexes don't change\")\n"
   ]
  },
  {
   "cell_type": "code",
   "execution_count": 106,
   "metadata": {},
   "outputs": [
    {
     "name": "stdout",
     "output_type": "stream",
     "text": [
      "Now we shift one day backward and print again\n",
      "First 3 entries in the df\n",
      "                 Open       High        Low      Close      Volume  Adj Close\n",
      "Date                                                                         \n",
      "2012-01-03  60.209999  60.349998  59.470001  59.709999   9593300.0  52.078475\n",
      "2012-01-04  59.349998  59.619999  58.369999  59.419998  12768200.0  51.825539\n",
      "2012-01-05  59.419998  59.450001  58.869999  59.000000   8069400.0  51.459220\n",
      "\n",
      "Shape is:(1258, 6)\n",
      "\n",
      "Last entry:                  Open   High        Low      Close     Volume  Adj Close\n",
      "Date                                                                    \n",
      "2016-12-29  69.120003  69.43  68.830002  69.120003  6889500.0  68.615479\n",
      "2016-12-30        NaN    NaN        NaN        NaN        NaN        NaN\n",
      "\n",
      "we shifted the df one day backward so\n",
      " - the entry that was at index zero is lost\n",
      " - the entry that was at day X is now at day x-1\n",
      " - the last entry shows all Nan\n",
      " - The number of rows stays the same\n"
     ]
    }
   ],
   "source": [
    "print(\"Now we shift one day backward and print again\")\n",
    "df2 = df.shift(periods=-1)\n",
    "print(\"First 3 entries in the df\")\n",
    "print(df2.loc[df.index[0:3]])\n",
    "print(\"\\nShape is:\" + str(df2.shape))\n",
    "print(\"\\nLast entry: \" + str(df2.loc[df2.index[-2:]]))\n",
    "print(\"\\nwe shifted the df one day backward so\")\n",
    "print(\" - the entry that was at index zero is lost\")\n",
    "print(\" - the entry that was at day X is now at day x-1\")\n",
    "print(\" - the last entry shows all Nan\")\n",
    "print(\" - The number of rows stays the same\")"
   ]
  },
  {
   "cell_type": "code",
   "execution_count": 112,
   "metadata": {},
   "outputs": [
    {
     "name": "stdout",
     "output_type": "stream",
     "text": [
      "                 Open       High        Low      Close    Volume  Adj Close\n",
      "Date                                                                       \n",
      "2012-01-03  59.970001  61.060001  59.869999  60.330002  12668800  52.619235\n",
      "2012-01-04  60.209999  60.349998  59.470001  59.709999   9593300  52.078475\n",
      "2012-01-05  59.349998  59.619999  58.369999  59.419998  12768200  51.825539\n",
      "\n",
      "-------\n",
      "Date time converted as last day of the month\n",
      "                 Open       High        Low      Close    Volume  Adj Close\n",
      "Date                                                                       \n",
      "2012-01-31  59.970001  61.060001  59.869999  60.330002  12668800  52.619235\n",
      "2012-01-31  60.209999  60.349998  59.470001  59.709999   9593300  52.078475\n",
      "2012-01-31  59.349998  59.619999  58.369999  59.419998  12768200  51.825539\n",
      "\n",
      "-------\n",
      "Date time converted as last day of the year\n",
      "                 Open       High        Low      Close    Volume  Adj Close\n",
      "Date                                                                       \n",
      "2012-12-31  59.970001  61.060001  59.869999  60.330002  12668800  52.619235\n",
      "2012-12-31  60.209999  60.349998  59.470001  59.709999   9593300  52.078475\n",
      "2012-12-31  59.349998  59.619999  58.369999  59.419998  12768200  51.825539\n"
     ]
    }
   ],
   "source": [
    "#\n",
    "#  INDEX TIME SHIFTING\n",
    "#\n",
    "# so before we shifted the values but the index stayed the same\n",
    "# here instead we are going to \"shift\" convert the index itself while the data stays the same\n",
    "# for instance:\n",
    "# - index is day date\n",
    "# - we want the index to be the same date (last day of the month) for entries in the same month\n",
    "#   e.g. 01/01/24, 02/01/24, ...30/01/24 entries will all be transformed to 31/01/24\n",
    "#\n",
    "# NOTE: THE COURSE IS USING TSHIFT BUT NOW THIS IS UNDER SHIFT\n",
    "#\n",
    "print(df.head(n=3) )\n",
    "print(\"\\n-------\")\n",
    "print(\"Date time converted as last day of the month\")\n",
    "print(df.shift(freq='M').head(n=3) )\n",
    "print(\"\\n-------\")\n",
    "print(\"Date time converted as last day of the year\")\n",
    "print(df.shift(freq='A').head(n=3) )"
   ]
  },
  {
   "cell_type": "code",
   "execution_count": 102,
   "metadata": {},
   "outputs": [
    {
     "data": {
      "text/html": [
       "<div>\n",
       "<style scoped>\n",
       "    .dataframe tbody tr th:only-of-type {\n",
       "        vertical-align: middle;\n",
       "    }\n",
       "\n",
       "    .dataframe tbody tr th {\n",
       "        vertical-align: top;\n",
       "    }\n",
       "\n",
       "    .dataframe thead th {\n",
       "        text-align: right;\n",
       "    }\n",
       "</style>\n",
       "<table border=\"1\" class=\"dataframe\">\n",
       "  <thead>\n",
       "    <tr style=\"text-align: right;\">\n",
       "      <th></th>\n",
       "      <th>Open</th>\n",
       "      <th>High</th>\n",
       "      <th>Low</th>\n",
       "      <th>Close</th>\n",
       "      <th>Volume</th>\n",
       "      <th>Adj Close</th>\n",
       "    </tr>\n",
       "    <tr>\n",
       "      <th>Date</th>\n",
       "      <th></th>\n",
       "      <th></th>\n",
       "      <th></th>\n",
       "      <th></th>\n",
       "      <th></th>\n",
       "      <th></th>\n",
       "    </tr>\n",
       "  </thead>\n",
       "  <tbody>\n",
       "    <tr>\n",
       "      <th>2016-12-29</th>\n",
       "      <td>69.120003</td>\n",
       "      <td>69.43</td>\n",
       "      <td>68.830002</td>\n",
       "      <td>69.120003</td>\n",
       "      <td>6889500.0</td>\n",
       "      <td>68.615479</td>\n",
       "    </tr>\n",
       "  </tbody>\n",
       "</table>\n",
       "</div>"
      ],
      "text/plain": [
       "                 Open   High        Low      Close     Volume  Adj Close\n",
       "Date                                                                    \n",
       "2016-12-29  69.120003  69.43  68.830002  69.120003  6889500.0  68.615479"
      ]
     },
     "execution_count": 102,
     "metadata": {},
     "output_type": "execute_result"
    }
   ],
   "source": [
    "df2.iloc[-1:-1]\n"
   ]
  },
  {
   "cell_type": "code",
   "execution_count": 113,
   "metadata": {},
   "outputs": [
    {
     "data": {
      "text/plain": [
       "<Axes: xlabel='Date'>"
      ]
     },
     "execution_count": 113,
     "metadata": {},
     "output_type": "execute_result"
    },
    {
     "data": {
      "image/png": "[encoded data removed]",
      "text/plain": [
       "<Figure size 1152x432 with 1 Axes>"
      ]
     },
     "metadata": {
      "needs_background": "light"
     },
     "output_type": "display_data"
    }
   ],
   "source": [
    "############################################################\n",
    "##\n",
    "##               ROLLING AND EXPANDING\n",
    "##\n",
    "############################################################\n",
    "#\n",
    "#\n",
    "# Data can be noisy\n",
    "# so we can try to replace daily data with weekly data averages\n",
    "# we need to compute the average on a weekly period and roll it over on the whole time series\n",
    "df['Open'].plot(figsize=(16,6))"
   ]
  },
  {
   "cell_type": "code",
   "execution_count": null,
   "metadata": {},
   "outputs": [],
   "source": []
  }
 ],
 "metadata": {
  "kernelspec": {
   "display_name": "Python 3",
   "language": "python",
   "name": "python3"
  },
  "language_info": {
   "codemirror_mode": {
    "name": "ipython",
    "version": 3
   },
   "file_extension": ".py",
   "mimetype": "text/x-python",
   "name": "python",
   "nbconvert_exporter": "python",
   "pygments_lexer": "ipython3",
   "version": "3.8.3"
  }
 },
 "nbformat": 4,
 "nbformat_minor": 0
}
